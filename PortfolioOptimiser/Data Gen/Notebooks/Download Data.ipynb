{
 "cells": [
  {
   "cell_type": "markdown",
   "id": "40ee21d6-69d3-47df-8da4-b9e6f3272ae8",
   "metadata": {},
   "source": [
    "# Import Packages\n",
    "\n",
    "May need to install these into your environment\n",
    "\n",
    "`pandas`\n",
    "\n",
    "`yfinance`"
   ]
  },
  {
   "cell_type": "code",
   "execution_count": 7,
   "id": "f0d88d39-a81b-4470-b6f0-2730e7a5fc63",
   "metadata": {},
   "outputs": [],
   "source": [
    "import pandas as pd\n",
    "import yfinance as yf"
   ]
  },
  {
   "cell_type": "markdown",
   "id": "7c4840fa-9be8-4c0e-849c-9b0318dd0450",
   "metadata": {},
   "source": [
    "# Variables & Parameters\n",
    "\n",
    "**TBills**\n",
    "- ^IRX 13 week\n",
    "- ^FVX 5 year\n",
    "- ^TNX 10 year\n",
    "- ^TYX 30 year \n",
    "\n",
    "**Commodities**\n",
    "- CL=F - Oil Futures\n",
    "- GC=F - Gold Futures\n",
    "- KC=F - Coffee Futures\n",
    "\n",
    "**Cryptos**\n",
    "- Bitcoin (BTC) \n",
    "- Ethereum (ETH) \n",
    "- Tether (USDT) \n",
    "- U.S. Dollar Coin (USDC) \n",
    "- Binance Coin (BNB)\n",
    "\n",
    "**Indices**\n",
    "- SP500 (^GSPC) \n",
    "- Nikkei 225 (^N225) \n",
    "- Russell 2000 (^RUT) \n",
    "- DAX (^GDAXI) "
   ]
  },
  {
   "cell_type": "code",
   "execution_count": 8,
   "id": "d1781252-fe7d-42b5-b029-f726961b985d",
   "metadata": {},
   "outputs": [],
   "source": [
    "start = '2000-01-01'\n",
    "\n",
    "stocks = \"AAPL NFLX AMZN TSLA GOOGL F\".split()\n",
    "bonds = '^IRX ^FVX ^TNX ^TYX'.split()\n",
    "commodities = 'CL=F GC=F KC=F'.split()\n",
    "cryptos = 'BTC-USD, ETH-USD, USDT-USD, USDC-USD, BNB-USD'.split()\n",
    "indices = '^GSPC ^N225 ^RUT ^GDAXI'.split()"
   ]
  },
  {
   "cell_type": "markdown",
   "id": "64cb85c3-7ff7-4580-b6f7-674b9b55e25d",
   "metadata": {},
   "source": [
    "# Download Stocks"
   ]
  },
  {
   "cell_type": "code",
   "execution_count": 9,
   "id": "25e2fd3a-d171-4bea-9f70-3e261fe06119",
   "metadata": {},
   "outputs": [
    {
     "name": "stdout",
     "output_type": "stream",
     "text": [
      "[*********************100%***********************]  1 of 1 completed\n",
      "Downloaded AAPL\n",
      "[*********************100%***********************]  1 of 1 completed\n",
      "Downloaded NFLX\n",
      "[*********************100%***********************]  1 of 1 completed\n",
      "Downloaded AMZN\n",
      "[*********************100%***********************]  1 of 1 completed\n",
      "Downloaded TSLA\n",
      "[*********************100%***********************]  1 of 1 completed\n",
      "Downloaded GOOGL\n",
      "[*********************100%***********************]  1 of 1 completed\n",
      "Downloaded F\n"
     ]
    }
   ],
   "source": [
    "for stock in stocks:\n",
    "    df = yf.download(tickers = stock, start=start).copy()\n",
    "    df.to_csv(f\"../Data/Stocks/{stock}.csv\")\n",
    "    print(f\"Downloaded {stock}\")"
   ]
  },
  {
   "cell_type": "markdown",
   "id": "863261c4-395d-4faa-bb91-0dcceb14ee7b",
   "metadata": {},
   "source": [
    "# Download Bonds"
   ]
  },
  {
   "cell_type": "code",
   "execution_count": 10,
   "id": "72e7098f-3e95-41d1-9e96-7f0c1317331c",
   "metadata": {},
   "outputs": [
    {
     "name": "stdout",
     "output_type": "stream",
     "text": [
      "[*********************100%***********************]  1 of 1 completed\n",
      "Downloaded ^IRX\n",
      "[*********************100%***********************]  1 of 1 completed\n",
      "Downloaded ^FVX\n",
      "[*********************100%***********************]  1 of 1 completed\n",
      "Downloaded ^TNX\n",
      "[*********************100%***********************]  1 of 1 completed\n",
      "Downloaded ^TYX\n"
     ]
    }
   ],
   "source": [
    "for bond in bonds:\n",
    "    df = yf.download(tickers = bond, start=start).copy()\n",
    "    df.to_csv(f\"../Data/Bonds/{bond}.csv\")\n",
    "    print(f\"Downloaded {bond}\")"
   ]
  },
  {
   "cell_type": "markdown",
   "id": "0d0a8f93-ffec-435f-a094-aec2f5a731e1",
   "metadata": {},
   "source": [
    "# Download Commodities"
   ]
  },
  {
   "cell_type": "code",
   "execution_count": 11,
   "id": "ce9dfa4a-9e11-4f52-845e-e00fa81d7220",
   "metadata": {},
   "outputs": [
    {
     "name": "stdout",
     "output_type": "stream",
     "text": [
      "[*********************100%***********************]  1 of 1 completed\n",
      "Downloaded CL=F\n",
      "[*********************100%***********************]  1 of 1 completed\n",
      "Downloaded GC=F\n",
      "[*********************100%***********************]  1 of 1 completed\n",
      "Downloaded KC=F\n"
     ]
    }
   ],
   "source": [
    "for commodity in commodities:\n",
    "    df = yf.download(tickers = commodity, start=start).copy()\n",
    "    df.to_csv(f\"../Data/Commodities/{commodity}.csv\")\n",
    "    print(f\"Downloaded {commodity}\")"
   ]
  },
  {
   "cell_type": "markdown",
   "id": "be6d3369-8789-4745-b005-51eadd4e2b7a",
   "metadata": {},
   "source": [
    "# Download Cryptos\n"
   ]
  },
  {
   "cell_type": "code",
   "execution_count": 12,
   "id": "d9930870-cb3c-46ae-a161-0bb169baac1f",
   "metadata": {},
   "outputs": [
    {
     "name": "stdout",
     "output_type": "stream",
     "text": [
      "[*********************100%***********************]  1 of 1 completed\n",
      "Downloaded BTC-USD,\n",
      "[*********************100%***********************]  1 of 1 completed\n",
      "Downloaded ETH-USD,\n",
      "[*********************100%***********************]  1 of 1 completed\n",
      "Downloaded USDT-USD,\n",
      "[*********************100%***********************]  1 of 1 completed\n",
      "Downloaded USDC-USD,\n",
      "[*********************100%***********************]  1 of 1 completed\n",
      "Downloaded BNB-USD\n"
     ]
    }
   ],
   "source": [
    "for coin in cryptos:\n",
    "    df = yf.download(tickers = coin, start=start).copy()\n",
    "    df.to_csv(f\"../Data/Cryptos/{coin}.csv\")\n",
    "    print(f\"Downloaded {coin}\")"
   ]
  },
  {
   "cell_type": "markdown",
   "id": "6ea6740e-f318-418a-8c67-c09318792de9",
   "metadata": {},
   "source": [
    "# Download Indices\n",
    "\n",
    "- SP500 (^GSPC) \n",
    "- Nikkei 225 (^N225) \n",
    "- Russell 2000 (^RUT) \n",
    "- DAX (^GDAXI) \n"
   ]
  },
  {
   "cell_type": "code",
   "execution_count": 13,
   "id": "2f97b740-a622-4ac1-aa42-634069f58999",
   "metadata": {},
   "outputs": [
    {
     "name": "stdout",
     "output_type": "stream",
     "text": [
      "[*********************100%***********************]  1 of 1 completed\n",
      "Downloaded ^GSPC\n",
      "[*********************100%***********************]  1 of 1 completed\n",
      "Downloaded ^N225\n",
      "[*********************100%***********************]  1 of 1 completed\n",
      "Downloaded ^RUT\n",
      "[*********************100%***********************]  1 of 1 completed\n",
      "Downloaded ^GDAXI\n"
     ]
    }
   ],
   "source": [
    "for index in indices:\n",
    "    df = yf.download(tickers = index, start=start).copy()\n",
    "    df.to_csv(f\"../Data/Indices/{index}.csv\")\n",
    "    print(f\"Downloaded {index}\")"
   ]
  },
  {
   "cell_type": "code",
   "execution_count": null,
   "id": "da7ada8a-c62a-4bd8-95e0-e63297367f2f",
   "metadata": {},
   "outputs": [],
   "source": []
  },
  {
   "cell_type": "code",
   "execution_count": null,
   "id": "d2ca06e2-b433-456a-ab7e-98b9863c25cd",
   "metadata": {},
   "outputs": [],
   "source": []
  }
 ],
 "metadata": {
  "kernelspec": {
   "display_name": "Python 3 (ipykernel)",
   "language": "python",
   "name": "python3"
  },
  "language_info": {
   "codemirror_mode": {
    "name": "ipython",
    "version": 3
   },
   "file_extension": ".py",
   "mimetype": "text/x-python",
   "name": "python",
   "nbconvert_exporter": "python",
   "pygments_lexer": "ipython3",
   "version": "3.9.12"
  }
 },
 "nbformat": 4,
 "nbformat_minor": 5
}
