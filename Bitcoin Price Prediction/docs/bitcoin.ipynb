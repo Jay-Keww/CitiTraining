{
 "cells": [
  {
   "cell_type": "markdown",
   "metadata": {},
   "source": [
    "#  Bitcoin Price Prediction Project\n",
    "\n",
    " \n",
    "After the 2008 global economic meltdown, the prices of cryptocurrencies have been booming. Even though cryptocurrency is regarded as an investment asset, they are highly volatile. Hence the need for a good prediction system, which can help clients make good investment decisions. "
   ]
  },
  {
   "cell_type": "markdown",
   "metadata": {},
   "source": [
    "## About the project\n",
    "\n",
    "You can start building a prediction model by using the Bitcoin Price Prediction Dataset. The most straightforward approach for any prediction problem would be to use a linear regression model. You can also try other regression algorithms like Random Forest, XGBoost, SVM. To increase the model’s efficiency, you can use time series forecasting techniques like the ARIMA model. Remember to evaluate the performance of your model using evaluation metrics like RMSE, ROC-AUC, etc. Also, Perform cross-validation on your dataset.\n",
    "\n",
    "A stretch goal would be to include the prediction of other cryptocurrencies such as Ethereum, Solana, Cardano and any others that the students feel that they want to include. "
   ]
  },
  {
   "cell_type": "markdown",
   "metadata": {},
   "source": [
    "## About the data\n",
    "There is a small sample training and testing data set provided, however, it is recommended that the students go to a web site such as blockchain.info and use their API to download a more complete corpus of data that can be used to train and test the models."
   ]
  },
  {
   "cell_type": "markdown",
   "metadata": {},
   "source": [
    "## Metrics and data visualization\n",
    "\n",
    "It is important that the application include data visualization output, including metrics obtained by running the models and the training and testing data.  Any applicable graphs and charts showing the predicted price of Bitcoin are also desirable. "
   ]
  }
 ],
 "metadata": {
  "kernelspec": {
   "display_name": "Python 3",
   "language": "python",
   "name": "python3"
  },
  "language_info": {
   "codemirror_mode": {
    "name": "ipython",
    "version": 3
   },
   "file_extension": ".py",
   "mimetype": "text/x-python",
   "name": "python",
   "nbconvert_exporter": "python",
   "pygments_lexer": "ipython3",
   "version": "3.8.5"
  }
 },
 "nbformat": 4,
 "nbformat_minor": 4
}
